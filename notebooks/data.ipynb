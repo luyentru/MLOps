{
 "cells": [
  {
   "cell_type": "code",
   "execution_count": 7,
   "metadata": {},
   "outputs": [],
   "source": [
    "import os\n",
    "import pandas as pd\n",
    "import shutil\n",
    "import kagglehub as kh"
   ]
  },
  {
   "cell_type": "code",
   "execution_count": 10,
   "metadata": {},
   "outputs": [
    {
     "name": "stdout",
     "output_type": "stream",
     "text": [
      "Warning: Looks like you're using an outdated `kagglehub` version, please consider updating (latest version: 0.3.6)\n",
      "Downloading from https://www.kaggle.com/api/v1/datasets/download/anshtanwar/pets-facial-expression-dataset?dataset_version_number=11...\n"
     ]
    },
    {
     "name": "stderr",
     "output_type": "stream",
     "text": [
      "100%|██████████| 38.6M/38.6M [00:14<00:00, 2.79MB/s]"
     ]
    },
    {
     "name": "stdout",
     "output_type": "stream",
     "text": [
      "Extracting model files...\n"
     ]
    },
    {
     "name": "stderr",
     "output_type": "stream",
     "text": [
      "\n"
     ]
    },
    {
     "name": "stdout",
     "output_type": "stream",
     "text": [
      "Path to dataset files: C:\\Users\\ACER\\.cache\\kagglehub\\datasets\\anshtanwar\\pets-facial-expression-dataset\\versions\\11\n",
      "Dataset moved to: data\n"
     ]
    }
   ],
   "source": [
    "# Download dataset\n",
    "download_path = kh.dataset_download(\"anshtanwar/pets-facial-expression-dataset\")\n",
    "print(\"Path to dataset files:\", download_path)\n",
    "\n",
    "# Define target directory\n",
    "target_directory = \"data/pets_facial_expression_dataset\"\n",
    "\n",
    "# Move dataset to the target directory\n",
    "shutil.move(download_path, target_directory)\n",
    "\n",
    "print(f\"Dataset moved to: {target_directory}\")"
   ]
  },
  {
   "cell_type": "code",
   "execution_count": 12,
   "metadata": {},
   "outputs": [
    {
     "name": "stdout",
     "output_type": "stream",
     "text": [
      "   split  label                              file_path\n",
      "0  train  Angry  data/Master Folder\\train\\Angry\\02.jpg\n",
      "1  train  Angry  data/Master Folder\\train\\Angry\\03.jpg\n",
      "2  train  Angry  data/Master Folder\\train\\Angry\\04.jpg\n",
      "3  train  Angry  data/Master Folder\\train\\Angry\\05.jpg\n",
      "4  train  Angry  data/Master Folder\\train\\Angry\\06.jpg\n"
     ]
    }
   ],
   "source": [
    "# Define the root directory of the dataset\n",
    "root_dir = target_directory + \"/Master Folder\"\n",
    "\n",
    "# Initialize an empty list to store data\n",
    "data = []\n",
    "\n",
    "# Walk through each subdirectory and file\n",
    "for split in [\"train\", \"valid\", \"test\"]:\n",
    "    split_path = os.path.join(root_dir, split)\n",
    "    for label in os.listdir(split_path):  # Angry, Happy, Sad, etc.\n",
    "        label_path = os.path.join(split_path, label)\n",
    "        if os.path.isdir(label_path):\n",
    "            for file in os.listdir(label_path):\n",
    "                file_path = os.path.join(label_path, file)\n",
    "                if os.path.isfile(file_path):\n",
    "                    # Append file path and label to the data list\n",
    "                    data.append({\"split\": split, \"label\": label, \"file_path\": file_path})\n",
    "\n",
    "# Convert the list to a pandas DataFrame\n",
    "df = pd.DataFrame(data)\n",
    "\n",
    "# Display the first few rows\n",
    "print(df.head())\n",
    "\n",
    "# Save the DataFrame to a CSV file (optional)\n",
    "df.to_csv(\"data/classification_dataset.csv\", index=False)"
   ]
  }
 ],
 "metadata": {
  "kernelspec": {
   "display_name": "MLOps_env",
   "language": "python",
   "name": "python3"
  },
  "language_info": {
   "codemirror_mode": {
    "name": "ipython",
    "version": 3
   },
   "file_extension": ".py",
   "mimetype": "text/x-python",
   "name": "python",
   "nbconvert_exporter": "python",
   "pygments_lexer": "ipython3",
   "version": "3.12.8"
  }
 },
 "nbformat": 4,
 "nbformat_minor": 2
}
